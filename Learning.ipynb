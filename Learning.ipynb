{
 "cells": [
  {
   "cell_type": "markdown",
   "id": "40f7bece-e96b-477a-9c89-6043d3ffdc18",
   "metadata": {
    "jp-MarkdownHeadingCollapsed": true
   },
   "source": [
    "# Pyautogui"
   ]
  },
  {
   "cell_type": "code",
   "execution_count": 2,
   "id": "d2e497c2-3151-4be8-9b10-e58cd967ee45",
   "metadata": {},
   "outputs": [],
   "source": [
    "import pyautogui"
   ]
  },
  {
   "cell_type": "code",
   "execution_count": 3,
   "id": "966f83bb-acb5-4859-9e33-e30ae9b8ff02",
   "metadata": {},
   "outputs": [
    {
     "name": "stdout",
     "output_type": "stream",
     "text": [
      "1366 768\n"
     ]
    }
   ],
   "source": [
    "screenWidth, screenHeight = pyautogui.size()\n",
    "print (screenWidth,screenHeight)"
   ]
  },
  {
   "cell_type": "raw",
   "id": "cdaad89c-2775-424b-b7ed-e4b00bc6cd0f",
   "metadata": {},
   "source": [
    "this code is to know screen size"
   ]
  },
  {
   "cell_type": "code",
   "execution_count": 43,
   "id": "da10efcb-9c18-4903-924b-d7f00a3cf88d",
   "metadata": {},
   "outputs": [
    {
     "name": "stdout",
     "output_type": "stream",
     "text": [
      "2751 611\n"
     ]
    }
   ],
   "source": [
    "    currentMouseX, currentMouseY = pyautogui.position()\n",
    "print (currentMouseX, currentMouseY)"
   ]
  },
  {
   "cell_type": "code",
   "execution_count": 45,
   "id": "633408c4-36dd-4bee-a6ac-e19261f85e25",
   "metadata": {},
   "outputs": [],
   "source": [
    "pyautogui.move(2751, 611)\n",
    "pyautogui.click(2751, 611)\n",
    "pyautogui.write('Gauranga',interval=.01)"
   ]
  },
  {
   "cell_type": "code",
   "execution_count": 20,
   "id": "64f58206-ac51-4d7b-9991-9aae79eced0e",
   "metadata": {},
   "outputs": [
    {
     "name": "stdout",
     "output_type": "stream",
     "text": [
      "<function click at 0x000002A71617AD40>\n"
     ]
    }
   ],
   "source": [
    "    pyautogui.click(500,300) \n",
    "print (pyautogui.click)\n"
   ]
  },
  {
   "cell_type": "code",
   "execution_count": null,
   "id": "c60bc60a-73e3-4660-8b8b-e1cbefa778db",
   "metadata": {},
   "outputs": [],
   "source": []
  },
  {
   "cell_type": "markdown",
   "id": "3f953766-cc1e-4baa-8b17-7e147ab27f76",
   "metadata": {},
   "source": [
    "# Practise."
   ]
  },
  {
   "cell_type": "code",
   "execution_count": 3,
   "id": "fd4cebed-d9e2-4e16-906f-330426fe7931",
   "metadata": {},
   "outputs": [],
   "source": [
    "a,b=24,24"
   ]
  },
  {
   "cell_type": "code",
   "execution_count": 46,
   "id": "0a8a8aed-9c6c-4057-8abc-7b2f4323afdf",
   "metadata": {},
   "outputs": [
    {
     "name": "stdout",
     "output_type": "stream",
     "text": [
      "1\n",
      "haha\n",
      "3\n",
      "4\n",
      "5\n",
      "6\n",
      "7\n",
      "8\n",
      "9\n",
      "10\n",
      "11\n",
      "haha\n",
      "13\n",
      "14\n",
      "15\n",
      "16\n",
      "17\n",
      "18\n",
      "19\n",
      "20\n"
     ]
    }
   ],
   "source": [
    "for i in range(1,20+1):\n",
    "    #print(i)\n",
    "    if i% == 2:\n",
    "        print('haha')\n",
    "    else:\n",
    "        print(i)\n",
    "  \n"
   ]
  },
  {
   "cell_type": "code",
   "execution_count": null,
   "id": "decdb443-3702-485d-b75f-2fb3de1d8ea8",
   "metadata": {},
   "outputs": [],
   "source": []
  },
  {
   "cell_type": "code",
   "execution_count": null,
   "id": "c4d19c66-422a-45d6-b30b-e7dad39ac502",
   "metadata": {},
   "outputs": [],
   "source": []
  },
  {
   "cell_type": "code",
   "execution_count": null,
   "id": "bd624ca1-4645-43dc-a7b1-bbdf4317de45",
   "metadata": {},
   "outputs": [],
   "source": []
  },
  {
   "cell_type": "code",
   "execution_count": null,
   "id": "d1339bdc-a762-4c75-818f-0bac563b7977",
   "metadata": {},
   "outputs": [],
   "source": []
  },
  {
   "cell_type": "code",
   "execution_count": 1,
   "id": "68b5c9a2-370e-41d6-b31f-6f1ecfe89800",
   "metadata": {},
   "outputs": [
    {
     "data": {
      "text/plain": [
       "'C:\\\\Users\\\\suryakant.kamat'"
      ]
     },
     "execution_count": 1,
     "metadata": {},
     "output_type": "execute_result"
    }
   ],
   "source": [
    "pwd\n"
   ]
  },
  {
   "cell_type": "code",
   "execution_count": null,
   "id": "6af29ff6-825a-4f4e-8fa3-c280ff92512b",
   "metadata": {},
   "outputs": [],
   "source": []
  }
 ],
 "metadata": {
  "kernelspec": {
   "display_name": "Python 3 (ipykernel)",
   "language": "python",
   "name": "python3"
  },
  "language_info": {
   "codemirror_mode": {
    "name": "ipython",
    "version": 3
   },
   "file_extension": ".py",
   "mimetype": "text/x-python",
   "name": "python",
   "nbconvert_exporter": "python",
   "pygments_lexer": "ipython3",
   "version": "3.12.1"
  }
 },
 "nbformat": 4,
 "nbformat_minor": 5
}
